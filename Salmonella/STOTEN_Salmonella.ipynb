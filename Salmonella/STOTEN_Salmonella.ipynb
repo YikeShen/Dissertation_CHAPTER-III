{
 "cells": [
  {
   "cell_type": "code",
   "execution_count": 1,
   "metadata": {},
   "outputs": [],
   "source": [
    "import numpy as np\n",
    "import matplotlib.pyplot as plt\n",
    "import pandas as pd\n",
    "plt.style.use('ggplot')"
   ]
  },
  {
   "cell_type": "code",
   "execution_count": 2,
   "metadata": {},
   "outputs": [],
   "source": [
    "raw_data = pd.read_csv('SalmonellaCFU2020.csv')"
   ]
  },
  {
   "cell_type": "code",
   "execution_count": 3,
   "metadata": {},
   "outputs": [
    {
     "data": {
      "text/html": [
       "<div>\n",
       "<style scoped>\n",
       "    .dataframe tbody tr th:only-of-type {\n",
       "        vertical-align: middle;\n",
       "    }\n",
       "\n",
       "    .dataframe tbody tr th {\n",
       "        vertical-align: top;\n",
       "    }\n",
       "\n",
       "    .dataframe thead th {\n",
       "        text-align: right;\n",
       "    }\n",
       "</style>\n",
       "<table border=\"1\" class=\"dataframe\">\n",
       "  <thead>\n",
       "    <tr style=\"text-align: right;\">\n",
       "      <th></th>\n",
       "      <th>Unnamed: 0</th>\n",
       "      <th>CK</th>\n",
       "      <th>Antibiotics</th>\n",
       "      <th>CK-std</th>\n",
       "      <th>Anti-std</th>\n",
       "    </tr>\n",
       "  </thead>\n",
       "  <tbody>\n",
       "    <tr>\n",
       "      <th>0</th>\n",
       "      <td>D1</td>\n",
       "      <td>8.598719</td>\n",
       "      <td>8.789285</td>\n",
       "      <td>0.297914</td>\n",
       "      <td>0.797664</td>\n",
       "    </tr>\n",
       "    <tr>\n",
       "      <th>1</th>\n",
       "      <td>D2</td>\n",
       "      <td>8.573474</td>\n",
       "      <td>7.896470</td>\n",
       "      <td>0.290489</td>\n",
       "      <td>0.431291</td>\n",
       "    </tr>\n",
       "    <tr>\n",
       "      <th>2</th>\n",
       "      <td>D3</td>\n",
       "      <td>7.626019</td>\n",
       "      <td>7.195702</td>\n",
       "      <td>0.874025</td>\n",
       "      <td>0.715792</td>\n",
       "    </tr>\n",
       "    <tr>\n",
       "      <th>3</th>\n",
       "      <td>D4</td>\n",
       "      <td>7.421186</td>\n",
       "      <td>7.000846</td>\n",
       "      <td>0.499343</td>\n",
       "      <td>0.625576</td>\n",
       "    </tr>\n",
       "  </tbody>\n",
       "</table>\n",
       "</div>"
      ],
      "text/plain": [
       "  Unnamed: 0        CK  Antibiotics    CK-std  Anti-std\n",
       "0         D1  8.598719     8.789285  0.297914  0.797664\n",
       "1         D2  8.573474     7.896470  0.290489  0.431291\n",
       "2         D3  7.626019     7.195702  0.874025  0.715792\n",
       "3         D4  7.421186     7.000846  0.499343  0.625576"
      ]
     },
     "execution_count": 3,
     "metadata": {},
     "output_type": "execute_result"
    }
   ],
   "source": [
    "raw_data"
   ]
  },
  {
   "cell_type": "code",
   "execution_count": 4,
   "metadata": {},
   "outputs": [
    {
     "data": {
      "text/plain": [
       "12861736.334405141"
      ]
     },
     "execution_count": 4,
     "metadata": {},
     "output_type": "execute_result"
    }
   ],
   "source": [
    "#Average lettuce weight\n",
    "letttuce_dry=0.7775000000000002 #unit(g)\n",
    "#10^7*1=letttuce_dry*x\n",
    "spike_con=10**7/letttuce_dry\n",
    "spike_con"
   ]
  },
  {
   "cell_type": "code",
   "execution_count": 5,
   "metadata": {},
   "outputs": [],
   "source": [
    "10**2\n",
    "import seaborn as sns"
   ]
  },
  {
   "cell_type": "code",
   "execution_count": 6,
   "metadata": {},
   "outputs": [
    {
     "data": {
      "image/png": "[encoded data removed]",
      "text/plain": [
       "<Figure size 432x288 with 1 Axes>"
      ]
     },
     "metadata": {},
     "output_type": "display_data"
    }
   ],
   "source": [
    "#plt.style.use('ggplot')\n",
    "plt.style.use('seaborn-white')\n",
    "fig, ax = plt.subplots()\n",
    "#sns.axes_style(\"white\")\n",
    "N=4\n",
    "width = 0.35 \n",
    "ind = np.arange(N) \n",
    "p1 = ax.bar(np.arange(4),raw_data['CK'], width, color='b', yerr=raw_data['CK-std'])\n",
    "p2 = ax.bar(ind + width, raw_data['Antibiotics'], width,\n",
    "            color='r', yerr=raw_data['Anti-std'])\n",
    "ax.set_title('Salmonella Concentration in Lettuce Shoots',fontsize=12)\n",
    "ax.set_xticks(ind + width / 2)\n",
    "ax.set_xticklabels(('Day 25', 'Day 27', 'Day 30', 'Day 35'))\n",
    "ax.legend((p1[0], p2[0]), ('Control', 'Antibiotics'))\n",
    "plt.ylim(6, 10)  \n",
    "plt.ylabel('LogCFU/g lettuce',fontsize=12)\n",
    "plt.xlabel('Harvest Day', fontsize=12)\n",
    "fig.savefig('salmonellacfu.jpg', format='jpg', dpi=1200)"
   ]
  }
 ],
 "metadata": {
  "kernelspec": {
   "display_name": "Python 3",
   "language": "python",
   "name": "python3"
  },
  "language_info": {
   "codemirror_mode": {
    "name": "ipython",
    "version": 3
   },
   "file_extension": ".py",
   "mimetype": "text/x-python",
   "name": "python",
   "nbconvert_exporter": "python",
   "pygments_lexer": "ipython3",
   "version": "3.7.1"
  }
 },
 "nbformat": 4,
 "nbformat_minor": 2
}
